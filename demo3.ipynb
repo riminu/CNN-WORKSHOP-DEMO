{
  "nbformat": 4,
  "nbformat_minor": 0,
  "metadata": {
    "colab": {
      "name": "demo3.ipynb",
      "provenance": []
    },
    "kernelspec": {
      "name": "python3",
      "display_name": "Python 3"
    }
  },
  "cells": [
    {
      "cell_type": "code",
      "metadata": {
        "id": "cuVz6geJhP11"
      },
      "source": [
        "import keras.backend as K\r\n",
        "import numpy as np\r\n",
        "from keras import Input, layers\r\n",
        "from keras.models import Model"
      ],
      "execution_count": null,
      "outputs": []
    },
    {
      "cell_type": "code",
      "metadata": {
        "id": "xxPEXrqIhdl6"
      },
      "source": [
        "# custom filter\r\n",
        "def my_filter(shape, dtype=None):\r\n",
        "\r\n",
        "    f = np.array([\r\n",
        "            [[[1]], [[0]], [[-1]]],\r\n",
        "            [[[1]], [[0]], [[-1]]],\r\n",
        "            [[[1]], [[0]], [[-1]]]\r\n",
        "        ])\r\n",
        "    assert f.shape == shape\r\n",
        "    return K.variable(f, dtype='float32')"
      ],
      "execution_count": null,
      "outputs": []
    },
    {
      "cell_type": "code",
      "metadata": {
        "id": "CyOkm8iFhjXs"
      },
      "source": [
        "#dummy example input\r\n",
        "input_mat = np.array([\r\n",
        "    [ [4], [9], [2], [5], [8], [3] ],\r\n",
        "    [ [3], [6], [2], [4], [0], [3] ],\r\n",
        "    [ [2], [4], [5], [4], [5], [2] ],\r\n",
        "    [ [5], [6], [5], [4], [7], [8] ],\r\n",
        "    [ [5], [7], [7], [9], [2], [1] ],\r\n",
        "    [ [5], [8], [5], [3], [8], [4] ]\r\n",
        "])\r\n",
        "\r\n",
        "# we need to give the batch size. \r\n",
        "# here we will just add a dimension at the beginning which makes batch size=1\r\n",
        "input_mat = input_mat.reshape((1, 6, 6, 1))"
      ],
      "execution_count": null,
      "outputs": []
    },
    {
      "cell_type": "code",
      "metadata": {
        "id": "ZTNfBpNJhsli"
      },
      "source": [
        "#dummy model\r\n",
        "def build_model():\r\n",
        "    input_tensor = Input(shape=(6,6,1))\r\n",
        "\r\n",
        "    x = layers.Conv2D(filters=1, \r\n",
        "                      kernel_size = 3,\r\n",
        "                      kernel_initializer=my_filter,\r\n",
        "                      strides=1, \r\n",
        "                      padding='valid') (input_tensor)\r\n",
        "\r\n",
        "    model = Model(inputs=input_tensor, outputs=x)\r\n",
        "    return model"
      ],
      "execution_count": null,
      "outputs": []
    },
    {
      "cell_type": "code",
      "metadata": {
        "colab": {
          "base_uri": "https://localhost:8080/"
        },
        "id": "ma0E8yf8hxb8",
        "outputId": "2a7eab98-b3c7-4cef-f372-3a0ec5846606"
      },
      "source": [
        "#Testing\r\n",
        "model = build_model()\r\n",
        "out = model.predict(input_mat)\r\n",
        "print(out)"
      ],
      "execution_count": null,
      "outputs": [
        {
          "output_type": "stream",
          "text": [
            "[[[[ 0.]\n",
            "   [ 6.]\n",
            "   [-4.]\n",
            "   [ 5.]]\n",
            "\n",
            "  [[-2.]\n",
            "   [ 4.]\n",
            "   [ 0.]\n",
            "   [-1.]]\n",
            "\n",
            "  [[-5.]\n",
            "   [ 0.]\n",
            "   [ 3.]\n",
            "   [ 6.]]\n",
            "\n",
            "  [[-2.]\n",
            "   [ 5.]\n",
            "   [ 0.]\n",
            "   [ 3.]]]]\n"
          ],
          "name": "stdout"
        }
      ]
    }
  ]
}